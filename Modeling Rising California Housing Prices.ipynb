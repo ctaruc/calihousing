{
 "cells": [
  {
   "cell_type": "markdown",
   "metadata": {},
   "source": [
    "### Linear Regression Modeling of California Home Prices\n",
    "Last updated: Feb 4, 2018"
   ]
  },
  {
   "cell_type": "markdown",
   "metadata": {},
   "source": [
    "We will train a regression model to predict median home prices.  \n",
    "\n",
    "### Data Source\n",
    "StatLib---Datasets Archive  \n",
    "http://lib.stat.cmu.edu/datasets/\n",
    "\n",
    "houses.zip\n",
    "These spatial data contain 20,640 observations on housing prices with 9 economic covariates. It appeared in Pace and Barry (1997), \"Sparse Spatial Autoregressions\", Statistics and Probability Letters. Submitted by Kelley Pace (kpace@unix1.sncc.lsu.edu). [9/Nov/99] (536 kbytes)\n",
    "\n",
    "\n",
    "\n",
    "Data Description\n",
    "This tutorial makes use of the California Housing data set. It appeared in a 1997 paper titled Sparse Spatial Autoregressions, written by Pace, R. Kelley and Ronald Barry and published in the Statistics and Probability Letters journal. The researchers built this data set by using the 1990 California census data.\n",
    "\n",
    "The data contains one row per census block group. A block group is the smallest geographical unit for which the U.S. Census Bureau publishes sample data (a block group typically has a population of 600 to 3,000 people). In this sample a block group on average includes 1425.5 individuals living in a geographically compact area. \n",
    "\n",
    "These spatial data points contain 20,640 observations on housing prices with 9 economic variables\n",
    "\n",
    "All the block groups with zero entries for the independent and dependent variables have been excluded from the data."
   ]
  },
  {
   "cell_type": "markdown",
   "metadata": {},
   "source": [
    "### Preprocessing (completed offline)\n",
    "\n",
    "cadata_raw.txt contains a data description at the top, followed by data.\n",
    "\n",
    "1. Separated data from header  \n",
    "   cal_housing_data_raw.txt  contains only data  \n",
    "   cal_housing_header.txt contains only text\n",
    "2. Some values are in scientific notation.  \n",
    "   Spacing is inconsistent (first 6 fields separated by 2 spaces. Lat/long separated by 1 space)  \n",
    "   Ran the following in Python to format values\n",
    "\n",
    "import pandas as pd\n",
    "\n",
    "d = pd.read_csv('/home/ubuntu/projects/cal_housing_data_raw.txt', header=None, sep='  ')\n",
    "\n",
    "d.columns=['v1','v2','v3','v4','v5','v6','v7','v8']  \n",
    "d['latitude'] = d.v8.map(lambda l: l.split()[0])  \n",
    "d['longitude'] = d.v8.map(lambda l: l.split()[1])  \n",
    "d.latitude = d.latitude.map(lambda v: float(v))  \n",
    "d.longitude = d.longitude.map(lambda v: float(v))  \n",
    "d.to_csv('/home/ubuntu/projects/cal_housing_data_preproc.txt', index=False, header=False)\n"
   ]
  },
  {
   "cell_type": "code",
   "execution_count": 29,
   "metadata": {
    "collapsed": false
   },
   "outputs": [],
   "source": [
    "# import pyspark modules\n",
    "from pyspark import SparkContext\n",
    "from pyspark.sql import SQLContext\n",
    "from pyspark.sql import Row\n",
    "from pyspark.sql.types import *       # for datatype conversion\n",
    "from pyspark.sql.functions import *   # for col() function\n",
    "from pyspark.mllib.linalg import DenseVector\n",
    "from pyspark.ml.feature import StandardScaler\n",
    "from pyspark.ml.regression import LinearRegression\n",
    "import pandas as pd\n",
    "\n",
    "sc = SparkContext.getOrCreate()\n",
    "sqlCtx = SQLContext(sc)"
   ]
  },
  {
   "cell_type": "code",
   "execution_count": 30,
   "metadata": {
    "collapsed": false
   },
   "outputs": [],
   "source": [
    "# read text file, which is comma-separated\n",
    "house = pd.read_csv('processed_data.txt')"
   ]
  },
  {
   "cell_type": "code",
   "execution_count": 31,
   "metadata": {
    "collapsed": false
   },
   "outputs": [
    {
     "data": {
      "text/html": [
       "<div>\n",
       "<style scoped>\n",
       "    .dataframe tbody tr th:only-of-type {\n",
       "        vertical-align: middle;\n",
       "    }\n",
       "\n",
       "    .dataframe tbody tr th {\n",
       "        vertical-align: top;\n",
       "    }\n",
       "\n",
       "    .dataframe thead th {\n",
       "        text-align: right;\n",
       "    }\n",
       "</style>\n",
       "<table border=\"1\" class=\"dataframe\">\n",
       "  <thead>\n",
       "    <tr style=\"text-align: right;\">\n",
       "      <th></th>\n",
       "      <th>median_house_value</th>\n",
       "      <th>median_income</th>\n",
       "      <th>housing_median_age</th>\n",
       "      <th>total_rooms</th>\n",
       "      <th>total_bedrooms</th>\n",
       "      <th>population</th>\n",
       "      <th>households</th>\n",
       "      <th>latitude</th>\n",
       "      <th>longitude</th>\n",
       "    </tr>\n",
       "  </thead>\n",
       "  <tbody>\n",
       "    <tr>\n",
       "      <th>0</th>\n",
       "      <td>452600.0</td>\n",
       "      <td>8.3252</td>\n",
       "      <td>41.0</td>\n",
       "      <td>880.0</td>\n",
       "      <td>129.0</td>\n",
       "      <td>322.0</td>\n",
       "      <td>126.0</td>\n",
       "      <td>37.88</td>\n",
       "      <td>-122.23</td>\n",
       "    </tr>\n",
       "    <tr>\n",
       "      <th>1</th>\n",
       "      <td>358500.0</td>\n",
       "      <td>8.3014</td>\n",
       "      <td>21.0</td>\n",
       "      <td>7099.0</td>\n",
       "      <td>1106.0</td>\n",
       "      <td>2401.0</td>\n",
       "      <td>1138.0</td>\n",
       "      <td>37.86</td>\n",
       "      <td>-122.22</td>\n",
       "    </tr>\n",
       "    <tr>\n",
       "      <th>2</th>\n",
       "      <td>352100.0</td>\n",
       "      <td>7.2574</td>\n",
       "      <td>52.0</td>\n",
       "      <td>1467.0</td>\n",
       "      <td>190.0</td>\n",
       "      <td>496.0</td>\n",
       "      <td>177.0</td>\n",
       "      <td>37.85</td>\n",
       "      <td>-122.24</td>\n",
       "    </tr>\n",
       "    <tr>\n",
       "      <th>3</th>\n",
       "      <td>341300.0</td>\n",
       "      <td>5.6431</td>\n",
       "      <td>52.0</td>\n",
       "      <td>1274.0</td>\n",
       "      <td>235.0</td>\n",
       "      <td>558.0</td>\n",
       "      <td>219.0</td>\n",
       "      <td>37.85</td>\n",
       "      <td>-122.25</td>\n",
       "    </tr>\n",
       "    <tr>\n",
       "      <th>4</th>\n",
       "      <td>342200.0</td>\n",
       "      <td>3.8462</td>\n",
       "      <td>52.0</td>\n",
       "      <td>1627.0</td>\n",
       "      <td>280.0</td>\n",
       "      <td>565.0</td>\n",
       "      <td>259.0</td>\n",
       "      <td>37.85</td>\n",
       "      <td>-122.25</td>\n",
       "    </tr>\n",
       "  </tbody>\n",
       "</table>\n",
       "</div>"
      ],
      "text/plain": [
       "   median_house_value  median_income  housing_median_age  total_rooms  \\\n",
       "0            452600.0         8.3252                41.0        880.0   \n",
       "1            358500.0         8.3014                21.0       7099.0   \n",
       "2            352100.0         7.2574                52.0       1467.0   \n",
       "3            341300.0         5.6431                52.0       1274.0   \n",
       "4            342200.0         3.8462                52.0       1627.0   \n",
       "\n",
       "   total_bedrooms  population  households  latitude  longitude  \n",
       "0           129.0       322.0       126.0     37.88    -122.23  \n",
       "1          1106.0      2401.0      1138.0     37.86    -122.22  \n",
       "2           190.0       496.0       177.0     37.85    -122.24  \n",
       "3           235.0       558.0       219.0     37.85    -122.25  \n",
       "4           280.0       565.0       259.0     37.85    -122.25  "
      ]
     },
     "execution_count": 31,
     "metadata": {},
     "output_type": "execute_result"
    }
   ],
   "source": [
    "house.head()"
   ]
  },
  {
   "cell_type": "code",
   "execution_count": 32,
   "metadata": {
    "collapsed": true
   },
   "outputs": [],
   "source": [
    "# cast to Spark dataframe\n",
    "df = sqlCtx.createDataFrame(house)"
   ]
  },
  {
   "cell_type": "code",
   "execution_count": 33,
   "metadata": {
    "collapsed": false
   },
   "outputs": [
    {
     "data": {
      "text/plain": [
       "20640"
      ]
     },
     "execution_count": 33,
     "metadata": {},
     "output_type": "execute_result"
    }
   ],
   "source": [
    "df.count()"
   ]
  },
  {
   "cell_type": "code",
   "execution_count": 34,
   "metadata": {
    "collapsed": false
   },
   "outputs": [
    {
     "name": "stdout",
     "output_type": "stream",
     "text": [
      "+------------------+-----------------+------------------+-----------+--------------+----------+----------+--------+---------+\n",
      "|median_house_value|    median_income|housing_median_age|total_rooms|total_bedrooms|population|households|latitude|longitude|\n",
      "+------------------+-----------------+------------------+-----------+--------------+----------+----------+--------+---------+\n",
      "|          452600.0|           8.3252|              41.0|      880.0|         129.0|     322.0|     126.0|   37.88|  -122.23|\n",
      "|          358500.0|           8.3014|              21.0|     7099.0|        1106.0|    2401.0|    1138.0|   37.86|  -122.22|\n",
      "|          352100.0|7.257399999999999|              52.0|     1467.0|         190.0|     496.0|     177.0|   37.85|  -122.24|\n",
      "|          341300.0|           5.6431|              52.0|     1274.0|         235.0|     558.0|     219.0|   37.85|  -122.25|\n",
      "|          342200.0|           3.8462|              52.0|     1627.0|         280.0|     565.0|     259.0|   37.85|  -122.25|\n",
      "+------------------+-----------------+------------------+-----------+--------------+----------+----------+--------+---------+\n",
      "only showing top 5 rows\n",
      "\n"
     ]
    }
   ],
   "source": [
    "df.show(5)"
   ]
  },
  {
   "cell_type": "code",
   "execution_count": 35,
   "metadata": {
    "collapsed": false
   },
   "outputs": [
    {
     "name": "stdout",
     "output_type": "stream",
     "text": [
      "root\n",
      " |-- median_house_value: double (nullable = true)\n",
      " |-- median_income: double (nullable = true)\n",
      " |-- housing_median_age: double (nullable = true)\n",
      " |-- total_rooms: double (nullable = true)\n",
      " |-- total_bedrooms: double (nullable = true)\n",
      " |-- population: double (nullable = true)\n",
      " |-- households: double (nullable = true)\n",
      " |-- latitude: double (nullable = true)\n",
      " |-- longitude: double (nullable = true)\n",
      "\n"
     ]
    }
   ],
   "source": [
    "df.printSchema()"
   ]
  },
  {
   "cell_type": "code",
   "execution_count": 36,
   "metadata": {
    "collapsed": false
   },
   "outputs": [
    {
     "name": "stdout",
     "output_type": "stream",
     "text": [
      "+------------------+-----------------+\n",
      "|median_house_value|    median_income|\n",
      "+------------------+-----------------+\n",
      "|          452600.0|           8.3252|\n",
      "|          358500.0|           8.3014|\n",
      "|          352100.0|7.257399999999999|\n",
      "|          341300.0|           5.6431|\n",
      "|          342200.0|           3.8462|\n",
      "+------------------+-----------------+\n",
      "only showing top 5 rows\n",
      "\n"
     ]
    }
   ],
   "source": [
    "df.select(['median_house_value','median_income']).show(5)"
   ]
  },
  {
   "cell_type": "code",
   "execution_count": 37,
   "metadata": {
    "collapsed": false
   },
   "outputs": [
    {
     "name": "stdout",
     "output_type": "stream",
     "text": [
      "+-------+------------------+------------------+-----------------+-----------------+\n",
      "|summary|        households|median_house_value|    median_income|   total_bedrooms|\n",
      "+-------+------------------+------------------+-----------------+-----------------+\n",
      "|  count|             20640|             20640|            20640|            20640|\n",
      "|   mean| 499.5396802325581|206855.81690891474|3.870671002906974|537.8980135658915|\n",
      "| stddev|382.32975283161073|115395.61587441366|1.899821717945268|421.2479059431317|\n",
      "|    min|               1.0|           14999.0|           0.4999|              1.0|\n",
      "|    max|            6082.0|          500001.0|          15.0001|           6445.0|\n",
      "+-------+------------------+------------------+-----------------+-----------------+\n",
      "\n"
     ]
    }
   ],
   "source": [
    "# Descriptive statistics\n",
    "df.select('households','median_house_value','median_income','total_bedrooms').describe().show()"
   ]
  },
  {
   "cell_type": "markdown",
   "metadata": {},
   "source": [
    "### Additional Preprocessing\n",
    "\n",
    "We want to do three more things before training a model:  \n",
    "\n",
    "1) Scale the response variable median_house_value, dividing by 100000 and saving into column median_house_value_final"
   ]
  },
  {
   "cell_type": "code",
   "execution_count": 38,
   "metadata": {
    "collapsed": false
   },
   "outputs": [
    {
     "name": "stdout",
     "output_type": "stream",
     "text": [
      "+------------------+------------------------+\n",
      "|median_house_value|median_house_value_final|\n",
      "+------------------+------------------------+\n",
      "|          452600.0|                   4.526|\n",
      "|          358500.0|                   3.585|\n",
      "|          352100.0|                   3.521|\n",
      "|          341300.0|                   3.413|\n",
      "|          342200.0|                   3.422|\n",
      "|          269700.0|                   2.697|\n",
      "|          299200.0|                   2.992|\n",
      "|          241400.0|                   2.414|\n",
      "|          226700.0|                   2.267|\n",
      "|          261100.0|                   2.611|\n",
      "+------------------+------------------------+\n",
      "only showing top 10 rows\n",
      "\n"
     ]
    }
   ],
   "source": [
    "df = df.withColumn('median_house_value_final', (df.median_house_value)/100000)\n",
    "df.select('median_house_value', 'median_house_value_final').show(10)"
   ]
  },
  {
   "cell_type": "markdown",
   "metadata": {},
   "source": [
    "2) Feature Engineering\n",
    "\n",
    "Add new feature:  rooms_per_household  "
   ]
  },
  {
   "cell_type": "code",
   "execution_count": 39,
   "metadata": {
    "collapsed": false
   },
   "outputs": [
    {
     "name": "stdout",
     "output_type": "stream",
     "text": [
      "+-------------------+\n",
      "|rooms_per_household|\n",
      "+-------------------+\n",
      "|  6.984126984126984|\n",
      "|  6.238137082601054|\n",
      "|  8.288135593220339|\n",
      "| 5.8173515981735155|\n",
      "|  6.281853281853282|\n",
      "|  4.761658031088083|\n",
      "| 4.9319066147859925|\n",
      "|  4.797527047913447|\n",
      "|  4.294117647058823|\n",
      "|  4.970588235294118|\n",
      "+-------------------+\n",
      "only showing top 10 rows\n",
      "\n"
     ]
    }
   ],
   "source": [
    "df = df.withColumn('rooms_per_household', df.total_rooms/df.households)\n",
    "df.select('rooms_per_household').show(10)"
   ]
  },
  {
   "cell_type": "markdown",
   "metadata": {},
   "source": [
    "3) Select and standardize features\n",
    "\n",
    "Re-order and select columns"
   ]
  },
  {
   "cell_type": "code",
   "execution_count": 40,
   "metadata": {
    "collapsed": true
   },
   "outputs": [],
   "source": [
    "dfs = df.select(\"median_house_value_final\", \n",
    "              \"total_bedrooms\", \n",
    "              \"population\", \n",
    "              \"households\", \n",
    "              \"median_income\", \n",
    "              \"rooms_per_household\")"
   ]
  },
  {
   "cell_type": "code",
   "execution_count": 41,
   "metadata": {
    "collapsed": false
   },
   "outputs": [
    {
     "name": "stdout",
     "output_type": "stream",
     "text": [
      "+------------------------+--------------+----------+----------+-----------------+-------------------+\n",
      "|median_house_value_final|total_bedrooms|population|households|    median_income|rooms_per_household|\n",
      "+------------------------+--------------+----------+----------+-----------------+-------------------+\n",
      "|                   4.526|         129.0|     322.0|     126.0|           8.3252|  6.984126984126984|\n",
      "|                   3.585|        1106.0|    2401.0|    1138.0|           8.3014|  6.238137082601054|\n",
      "|                   3.521|         190.0|     496.0|     177.0|7.257399999999999|  8.288135593220339|\n",
      "+------------------------+--------------+----------+----------+-----------------+-------------------+\n",
      "only showing top 3 rows\n",
      "\n"
     ]
    }
   ],
   "source": [
    "dfs.show(3)"
   ]
  },
  {
   "cell_type": "markdown",
   "metadata": {},
   "source": [
    "We want to standardize the features, but not the response variable. We can do this by converting the DF to an RDD and\n",
    "applying map()."
   ]
  },
  {
   "cell_type": "code",
   "execution_count": 42,
   "metadata": {
    "collapsed": true
   },
   "outputs": [],
   "source": [
    "input_data = dfs.rdd.map(lambda x: (x[0], DenseVector(x[1:])))"
   ]
  },
  {
   "cell_type": "code",
   "execution_count": 43,
   "metadata": {
    "collapsed": false
   },
   "outputs": [
    {
     "data": {
      "text/plain": [
       "[(4.526, DenseVector([129.0, 322.0, 126.0, 8.3252, 6.9841])),\n",
       " (3.585, DenseVector([1106.0, 2401.0, 1138.0, 8.3014, 6.2381])),\n",
       " (3.521, DenseVector([190.0, 496.0, 177.0, 7.2574, 8.2881]))]"
      ]
     },
     "execution_count": 43,
     "metadata": {},
     "output_type": "execute_result"
    }
   ],
   "source": [
    "input_data.take(3)"
   ]
  },
  {
   "cell_type": "code",
   "execution_count": 44,
   "metadata": {
    "collapsed": false
   },
   "outputs": [],
   "source": [
    "# create dataframe for modeling\n",
    "df2 = sqlCtx.createDataFrame(input_data, [\"label\", \"features\"])"
   ]
  },
  {
   "cell_type": "code",
   "execution_count": 45,
   "metadata": {
    "collapsed": false
   },
   "outputs": [
    {
     "name": "stdout",
     "output_type": "stream",
     "text": [
      "+-----+--------------------+\n",
      "|label|            features|\n",
      "+-----+--------------------+\n",
      "|4.526|[129.0,322.0,126....|\n",
      "|3.585|[1106.0,2401.0,11...|\n",
      "|3.521|[190.0,496.0,177....|\n",
      "+-----+--------------------+\n",
      "only showing top 3 rows\n",
      "\n"
     ]
    }
   ],
   "source": [
    "df2.show(3)"
   ]
  },
  {
   "cell_type": "code",
   "execution_count": 46,
   "metadata": {
    "collapsed": false
   },
   "outputs": [
    {
     "data": {
      "text/plain": [
       "[Row(label=4.526, features=DenseVector([129.0, 322.0, 126.0, 8.3252, 6.9841]), features_scaled=DenseVector([0.3062, 0.2843, 0.3296, 4.3821, 2.8228])),\n",
       " Row(label=3.585, features=DenseVector([1106.0, 2401.0, 1138.0, 8.3014, 6.2381]), features_scaled=DenseVector([2.6255, 2.1202, 2.9765, 4.3696, 2.5213]))]"
      ]
     },
     "execution_count": 46,
     "metadata": {},
     "output_type": "execute_result"
    }
   ],
   "source": [
    "# Feature scaling\n",
    "\n",
    "# Initialize the `standardScaler`\n",
    "standardScaler = StandardScaler(inputCol=\"features\", outputCol=\"features_scaled\")\n",
    "\n",
    "# Fit the DataFrame to the scaler; this computes the mean, standard deviation of each feature\n",
    "scaler = standardScaler.fit(df2)\n",
    "\n",
    "# Transform the data in `df2` with the scaler\n",
    "scaled_df = scaler.transform(df2)\n",
    "\n",
    "# Inspect the result\n",
    "scaled_df.take(2)"
   ]
  },
  {
   "cell_type": "code",
   "execution_count": 47,
   "metadata": {
    "collapsed": false
   },
   "outputs": [
    {
     "data": {
      "text/plain": [
       "pyspark.sql.dataframe.DataFrame"
      ]
     },
     "execution_count": 47,
     "metadata": {},
     "output_type": "execute_result"
    }
   ],
   "source": [
    "type(scaled_df)"
   ]
  },
  {
   "cell_type": "markdown",
   "metadata": {},
   "source": [
    "Split data into train 80%, test 20% sets, using `seed=314`"
   ]
  },
  {
   "cell_type": "code",
   "execution_count": 48,
   "metadata": {
    "collapsed": true
   },
   "outputs": [],
   "source": [
    "training, test = scaled_df.randomSplit([.8,.2], seed = 314)"
   ]
  },
  {
   "cell_type": "markdown",
   "metadata": {},
   "source": [
    "Initialize the logistic regression object"
   ]
  },
  {
   "cell_type": "code",
   "execution_count": 49,
   "metadata": {
    "collapsed": true
   },
   "outputs": [],
   "source": [
    "lr = LinearRegression(labelCol=\"label\", maxIter=10, regParam=0.3, elasticNetParam=0.8)"
   ]
  },
  {
   "cell_type": "markdown",
   "metadata": {},
   "source": [
    "Fit the model using the training data"
   ]
  },
  {
   "cell_type": "code",
   "execution_count": 50,
   "metadata": {
    "collapsed": true
   },
   "outputs": [],
   "source": [
    "model = lr.fit(training)"
   ]
  },
  {
   "cell_type": "markdown",
   "metadata": {},
   "source": [
    "For each datapoint in the test set, make a prediction."
   ]
  },
  {
   "cell_type": "code",
   "execution_count": 51,
   "metadata": {
    "collapsed": false
   },
   "outputs": [],
   "source": [
    "predicted = model.transform(test)"
   ]
  },
  {
   "cell_type": "code",
   "execution_count": 52,
   "metadata": {
    "collapsed": false
   },
   "outputs": [
    {
     "name": "stdout",
     "output_type": "stream",
     "text": [
      "+-----+--------------------+--------------------+------------------+\n",
      "|label|            features|     features_scaled|        prediction|\n",
      "+-----+--------------------+--------------------+------------------+\n",
      "|0.269|[543.0,1423.0,482...|[1.28902717933820...|1.6043857976084994|\n",
      "|0.329|[386.0,436.0,213....|[0.91632502987945...|1.3133532831902404|\n",
      "|0.396|[296.0,1228.0,289...|[0.70267411617699...|1.2867595070730435|\n",
      "+-----+--------------------+--------------------+------------------+\n",
      "only showing top 3 rows\n",
      "\n"
     ]
    }
   ],
   "source": [
    "predicted.show(3)"
   ]
  },
  {
   "cell_type": "markdown",
   "metadata": {},
   "source": [
    "Convert the dataframe to an rdd."
   ]
  },
  {
   "cell_type": "code",
   "execution_count": 53,
   "metadata": {
    "collapsed": true
   },
   "outputs": [],
   "source": [
    "predAndLab = predicted.rdd.map(lambda x: (x.prediction, x.label))"
   ]
  },
  {
   "cell_type": "code",
   "execution_count": 54,
   "metadata": {
    "collapsed": false
   },
   "outputs": [
    {
     "data": {
      "text/plain": [
       "[(1.6043857976084994, 0.269),\n",
       " (1.3133532831902404, 0.329),\n",
       " (1.2867595070730435, 0.396)]"
      ]
     },
     "execution_count": 54,
     "metadata": {},
     "output_type": "execute_result"
    }
   ],
   "source": [
    "predAndLab.take(3)"
   ]
  },
  {
   "cell_type": "markdown",
   "metadata": {},
   "source": [
    "Evaluate the model by computing Mean Squared Error (MSE), which is the average sum of squared differences between predicted and label. \n",
    "\n",
    "This can be computed in a single line using `reduce()`"
   ]
  },
  {
   "cell_type": "code",
   "execution_count": 55,
   "metadata": {
    "collapsed": true
   },
   "outputs": [],
   "source": [
    "MSE = predAndLab.map(lambda (pred, lab): (pred - lab)**2).reduce(lambda x, y: x + y) / predAndLab.count()"
   ]
  },
  {
   "cell_type": "code",
   "execution_count": 56,
   "metadata": {
    "collapsed": false
   },
   "outputs": [
    {
     "name": "stdout",
     "output_type": "stream",
     "text": [
      "Mean Squared Error = 0.762778654801\n"
     ]
    }
   ],
   "source": [
    "print(\"Mean Squared Error = \" + str(MSE))"
   ]
  },
  {
   "cell_type": "markdown",
   "metadata": {},
   "source": [
    "Show all RMSE values in a table at bottom"
   ]
  },
  {
   "cell_type": "code",
   "execution_count": 57,
   "metadata": {
    "collapsed": false
   },
   "outputs": [
    {
     "data": {
      "text/html": [
       "<div>\n",
       "<style scoped>\n",
       "    .dataframe tbody tr th:only-of-type {\n",
       "        vertical-align: middle;\n",
       "    }\n",
       "\n",
       "    .dataframe tbody tr th {\n",
       "        vertical-align: top;\n",
       "    }\n",
       "\n",
       "    .dataframe thead th {\n",
       "        text-align: right;\n",
       "    }\n",
       "</style>\n",
       "<table border=\"1\" class=\"dataframe\">\n",
       "  <thead>\n",
       "    <tr style=\"text-align: right;\">\n",
       "      <th></th>\n",
       "      <th>RMSE</th>\n",
       "    </tr>\n",
       "  </thead>\n",
       "  <tbody>\n",
       "    <tr>\n",
       "      <th>1</th>\n",
       "      <td>0.762779</td>\n",
       "    </tr>\n",
       "    <tr>\n",
       "      <th>2</th>\n",
       "      <td>NaN</td>\n",
       "    </tr>\n",
       "  </tbody>\n",
       "</table>\n",
       "</div>"
      ],
      "text/plain": [
       "       RMSE\n",
       "1  0.762779\n",
       "2       NaN"
      ]
     },
     "execution_count": 57,
     "metadata": {},
     "output_type": "execute_result"
    }
   ],
   "source": [
    "out = pd.DataFrame(columns=['RMSE'],index=[1,2])\n",
    "out.iloc[0]['RMSE']= MSE\n",
    "out"
   ]
  },
  {
   "cell_type": "markdown",
   "metadata": {},
   "source": [
    "## Creating a new categorical feature"
   ]
  },
  {
   "cell_type": "code",
   "execution_count": 58,
   "metadata": {
    "collapsed": false
   },
   "outputs": [
    {
     "name": "stderr",
     "output_type": "stream",
     "text": [
      "/usr/local/lib/python2.7/dist-packages/matplotlib/__init__.py:872: UserWarning: axes.color_cycle is deprecated and replaced with axes.prop_cycle; please use the latter.\n",
      "  warnings.warn(self.msg_depr % (key, alt_key))\n"
     ]
    }
   ],
   "source": [
    "## new feature:\n",
    "## 1. gather each (latitude, longitude) tuple\n",
    "## 2. run k-means on tuple.\n",
    "## 3. use cluster as a new categorical feature\n",
    "\n",
    "from sklearn.cluster import KMeans\n",
    "from sklearn import metrics\n",
    "from sklearn.metrics import silhouette_samples, silhouette_score\n",
    "import matplotlib.pyplot as plt\n",
    "import seaborn as sns\n",
    "\n",
    "pandaDF = df.toPandas()\n",
    "dfSUB = pandaDF[['latitude','longitude']]"
   ]
  },
  {
   "cell_type": "code",
   "execution_count": 59,
   "metadata": {
    "collapsed": true
   },
   "outputs": [],
   "source": [
    "# for some reason this doesn't work. \n",
    "# this would be a method that uses silhouette coefficients to find the best cluster\n",
    "# silhouette coefficients are \n",
    " \n",
    "## num_clusters_list = range(2,10)\n",
    "## kmeans_out = pd.DataFrame(columns=['sil'], index=num_clusters_list)\n",
    "\n",
    "## for k in num_clusters_list:\n",
    "    ## kmeans = KMeans(n_clusters=k)\n",
    "    ## labels = kmeans.fit_predict(dfSUB)\n",
    "    ## array = dfSUB.as_matrix()\n",
    "    ## silhouette = silhouette_score(array, labels)\n",
    "    ## kmeans_out.sil.loc[k] = sillhouette"
   ]
  },
  {
   "cell_type": "code",
   "execution_count": 60,
   "metadata": {
    "collapsed": true
   },
   "outputs": [],
   "source": [
    "# we use 6 clusters\n",
    "\n",
    "kmeans = KMeans(n_clusters=6).fit(dfSUB)\n",
    "labels = kmeans.labels_\n",
    "pandaDF['cluster'] = labels"
   ]
  },
  {
   "cell_type": "code",
   "execution_count": 61,
   "metadata": {
    "collapsed": false
   },
   "outputs": [
    {
     "name": "stderr",
     "output_type": "stream",
     "text": [
      "/usr/local/lib/python2.7/dist-packages/matplotlib/__init__.py:892: UserWarning: axes.color_cycle is deprecated and replaced with axes.prop_cycle; please use the latter.\n",
      "  warnings.warn(self.msg_depr % (key, alt_key))\n"
     ]
    },
    {
     "data": {
      "image/png": "[encoded data removed]",
      "text/plain": [
       "<matplotlib.figure.Figure at 0x7f740d7c8a90>"
      ]
     },
     "metadata": {},
     "output_type": "display_data"
    }
   ],
   "source": [
    "%matplotlib inline\n",
    "sns.lmplot('latitude', 'longitude', \n",
    "           data=pandaDF, \n",
    "           fit_reg=False, \n",
    "           hue=\"cluster\",  \n",
    "           scatter_kws={\"marker\": \"D\", \n",
    "                        \"s\": 100})\n",
    "plt.show()"
   ]
  },
  {
   "cell_type": "code",
   "execution_count": 62,
   "metadata": {
    "collapsed": true
   },
   "outputs": [],
   "source": [
    "## I scale the feature here, because if we scale before creating the vector we also scale the categorical 'cluster' feature\n",
    "\n",
    "from sklearn.preprocessing import StandardScaler\n",
    "\n",
    "col_names = [\"median_house_value_final\", \n",
    "              \"total_bedrooms\", \n",
    "              \"population\", \n",
    "              \"households\", \n",
    "              \"median_income\", \n",
    "              \"rooms_per_household\"]\n",
    "\n",
    "features = pandaDF[col_names]\n",
    "scaler = StandardScaler().fit(features.values)\n",
    "features = scaler.transform(features.values)"
   ]
  },
  {
   "cell_type": "code",
   "execution_count": 63,
   "metadata": {
    "collapsed": true
   },
   "outputs": [],
   "source": [
    "pandaDF[col_names] = features"
   ]
  },
  {
   "cell_type": "code",
   "execution_count": 64,
   "metadata": {
    "collapsed": true
   },
   "outputs": [],
   "source": [
    "dfP3 = sqlCtx.createDataFrame(pandaDF)"
   ]
  },
  {
   "cell_type": "code",
   "execution_count": 65,
   "metadata": {
    "collapsed": false
   },
   "outputs": [
    {
     "data": {
      "text/plain": [
       "[Row(median_house_value=452600.0, median_income=2.3447657583017163, housing_median_age=41.0, total_rooms=880.0, total_bedrooms=-0.9707061177799191, population=-0.9744285971768408, households=-0.9770328537634586, latitude=37.88, longitude=-122.23, median_house_value_final=2.129631481668038, rooms_per_household=0.6285594533305325, cluster=1, indexed_cluster=1.0)]"
      ]
     },
     "execution_count": 65,
     "metadata": {},
     "output_type": "execute_result"
    }
   ],
   "source": [
    "## indexes each cluster, a preprocessing step for one hot encoding.\n",
    "\n",
    "from pyspark.ml.feature import StringIndexer\n",
    "\n",
    "string_indexer = StringIndexer(inputCol='cluster', outputCol='indexed_cluster')\n",
    "string_indexer_model = string_indexer.fit(dfP3)\n",
    "df_stringindexer = string_indexer_model.transform(dfP3)\n",
    "df_stringindexer.take(1)"
   ]
  },
  {
   "cell_type": "code",
   "execution_count": 66,
   "metadata": {
    "collapsed": true
   },
   "outputs": [],
   "source": [
    "## one hot encoding the cluster variable so it can be used for linear regression\n",
    "\n",
    "from pyspark.ml.feature import OneHotEncoder\n",
    "\n",
    "onehotencoder = OneHotEncoder(inputCol='indexed_cluster', outputCol='onehotencoded_cluster')\n",
    "df_onehotencoder = onehotencoder.transform(df_stringindexer)"
   ]
  },
  {
   "cell_type": "code",
   "execution_count": 67,
   "metadata": {
    "collapsed": true,
    "scrolled": true
   },
   "outputs": [],
   "source": [
    "dfsP3 = df_onehotencoder.select(\"median_house_value_final\", \n",
    "              \"total_bedrooms\", \n",
    "              \"population\", \n",
    "              \"households\", \n",
    "              \"median_income\", \n",
    "              \"rooms_per_household\", \"onehotencoded_cluster\")"
   ]
  },
  {
   "cell_type": "code",
   "execution_count": 68,
   "metadata": {
    "collapsed": true
   },
   "outputs": [],
   "source": [
    "feature_columns = dfsP3.columns[1:7]"
   ]
  },
  {
   "cell_type": "code",
   "execution_count": 69,
   "metadata": {
    "collapsed": false
   },
   "outputs": [
    {
     "data": {
      "text/plain": [
       "[Row(median_house_value_final=2.129631481668038, total_bedrooms=-0.9707061177799191, population=-0.9744285971768408, households=-0.9770328537634586, median_income=2.3447657583017163, rooms_per_household=0.6285594533305325, onehotencoded_cluster=SparseVector(5, {1: 1.0}), features=DenseVector([-0.9707, -0.9744, -0.977, 2.3448, 0.6286, 0.0, 1.0, 0.0, 0.0, 0.0]))]"
      ]
     },
     "execution_count": 69,
     "metadata": {},
     "output_type": "execute_result"
    }
   ],
   "source": [
    "from pyspark.ml.feature import VectorAssembler\n",
    "vectorassembler = VectorAssembler(inputCols=feature_columns, outputCol='features')\n",
    "df_features = vectorassembler.transform(dfsP3)\n",
    "df_features.take(1)"
   ]
  },
  {
   "cell_type": "code",
   "execution_count": 70,
   "metadata": {
    "collapsed": true
   },
   "outputs": [],
   "source": [
    "featuresAndLabel = df_features.select(\"median_house_value_final\", \"features\")"
   ]
  },
  {
   "cell_type": "code",
   "execution_count": 71,
   "metadata": {
    "collapsed": true
   },
   "outputs": [],
   "source": [
    "input_dataP3 = featuresAndLabel.rdd.map(tuple)"
   ]
  },
  {
   "cell_type": "code",
   "execution_count": 72,
   "metadata": {
    "collapsed": false
   },
   "outputs": [
    {
     "data": {
      "text/plain": [
       "[(2.129631481668038,\n",
       "  DenseVector([-0.9707, -0.9744, -0.977, 2.3448, 0.6286, 0.0, 1.0, 0.0, 0.0, 0.0])),\n",
       " (1.3141561369243353,\n",
       "  DenseVector([1.3486, 0.8614, 1.67, 2.3322, 0.327, 0.0, 1.0, 0.0, 0.0, 0.0]))]"
      ]
     },
     "execution_count": 72,
     "metadata": {},
     "output_type": "execute_result"
    }
   ],
   "source": [
    "input_dataP3.take(2)"
   ]
  },
  {
   "cell_type": "code",
   "execution_count": 73,
   "metadata": {
    "collapsed": true
   },
   "outputs": [],
   "source": [
    "df2P3 = sqlCtx.createDataFrame(input_dataP3, [\"label\", \"features\"])"
   ]
  },
  {
   "cell_type": "code",
   "execution_count": 74,
   "metadata": {
    "collapsed": true
   },
   "outputs": [],
   "source": [
    "trainingP3, testP3 = df2P3.randomSplit([.8,.2], seed = 314)"
   ]
  },
  {
   "cell_type": "code",
   "execution_count": 75,
   "metadata": {
    "collapsed": true
   },
   "outputs": [],
   "source": [
    "lrP3 = LinearRegression(labelCol=\"label\", maxIter=10, regParam=0.3, elasticNetParam=0.8)"
   ]
  },
  {
   "cell_type": "code",
   "execution_count": 76,
   "metadata": {
    "collapsed": true
   },
   "outputs": [],
   "source": [
    "modelP3 = lrP3.fit(trainingP3)"
   ]
  },
  {
   "cell_type": "code",
   "execution_count": 77,
   "metadata": {
    "collapsed": true
   },
   "outputs": [],
   "source": [
    "predictedP3 = modelP3.transform(testP3)"
   ]
  },
  {
   "cell_type": "code",
   "execution_count": 78,
   "metadata": {
    "collapsed": true
   },
   "outputs": [],
   "source": [
    "predAndLabP3 = predictedP3.rdd.map(lambda x:(x.prediction, x.label))"
   ]
  },
  {
   "cell_type": "code",
   "execution_count": 79,
   "metadata": {
    "collapsed": false
   },
   "outputs": [
    {
     "data": {
      "text/plain": [
       "[(-0.3732898479452607, -1.5595061831289252),\n",
       " (-0.6073305834988805, -1.507509880594789),\n",
       " (-0.6287166026385569, -1.4494473427650039)]"
      ]
     },
     "execution_count": 79,
     "metadata": {},
     "output_type": "execute_result"
    }
   ],
   "source": [
    "predAndLabP3.take(3)"
   ]
  },
  {
   "cell_type": "code",
   "execution_count": 80,
   "metadata": {
    "collapsed": true
   },
   "outputs": [],
   "source": [
    "MSEP3 = predAndLabP3.map(lambda (pred, lab): (pred - lab)**2).reduce(lambda x, y: x + y) / predAndLabP3.count()"
   ]
  },
  {
   "cell_type": "code",
   "execution_count": 81,
   "metadata": {
    "collapsed": false
   },
   "outputs": [
    {
     "name": "stdout",
     "output_type": "stream",
     "text": [
      "Mean Squared Error = 0.589122275747\n"
     ]
    }
   ],
   "source": [
    "print(\"Mean Squared Error = \" + str(MSEP3))"
   ]
  },
  {
   "cell_type": "code",
   "execution_count": 82,
   "metadata": {
    "collapsed": false
   },
   "outputs": [
    {
     "data": {
      "text/html": [
       "<div>\n",
       "<style scoped>\n",
       "    .dataframe tbody tr th:only-of-type {\n",
       "        vertical-align: middle;\n",
       "    }\n",
       "\n",
       "    .dataframe tbody tr th {\n",
       "        vertical-align: top;\n",
       "    }\n",
       "\n",
       "    .dataframe thead th {\n",
       "        text-align: right;\n",
       "    }\n",
       "</style>\n",
       "<table border=\"1\" class=\"dataframe\">\n",
       "  <thead>\n",
       "    <tr style=\"text-align: right;\">\n",
       "      <th></th>\n",
       "      <th>RMSE</th>\n",
       "    </tr>\n",
       "  </thead>\n",
       "  <tbody>\n",
       "    <tr>\n",
       "      <th>1</th>\n",
       "      <td>0.762779</td>\n",
       "    </tr>\n",
       "    <tr>\n",
       "      <th>2</th>\n",
       "      <td>0.589122</td>\n",
       "    </tr>\n",
       "  </tbody>\n",
       "</table>\n",
       "</div>"
      ],
      "text/plain": [
       "       RMSE\n",
       "1  0.762779\n",
       "2  0.589122"
      ]
     },
     "execution_count": 82,
     "metadata": {},
     "output_type": "execute_result"
    }
   ],
   "source": [
    "out.iloc[1]['RMSE']= MSEP3\n",
    "out"
   ]
  },
  {
   "cell_type": "markdown",
   "metadata": {},
   "source": [
    "This leads to a near ~30% decrease in error. (Note that RMSE is different from accuracy.)"
   ]
  }
 ],
 "metadata": {
  "kernelspec": {
   "display_name": "Python 2",
   "language": "python",
   "name": "python2"
  },
  "language_info": {
   "codemirror_mode": {
    "name": "ipython",
    "version": 2
   },
   "file_extension": ".py",
   "mimetype": "text/x-python",
   "name": "python",
   "nbconvert_exporter": "python",
   "pygments_lexer": "ipython2",
   "version": "2.7.6"
  }
 },
 "nbformat": 4,
 "nbformat_minor": 1
}
